{
 "cells": [
  {
   "cell_type": "code",
   "execution_count": 1,
   "id": "f418d82e-a270-495c-853a-841fb1b88335",
   "metadata": {},
   "outputs": [],
   "source": [
    "#import statements\n",
    "import numpy as np\n",
    "import pandas as pd\n",
    "import os\n",
    "import matplotlib.pyplot as plt\n",
    "from mne.io import read_raw_edf\n",
    "import tensorflow as tf\n",
    "import keras\n",
    "from sklearn.preprocessing import MinMaxScaler\n",
    "from sklearn.preprocessing import StandardScaler\n",
    "from sklearn.model_selection import train_test_split\n",
    "from keras import layers\n",
    "from keras import Sequential"
   ]
  },
  {
   "cell_type": "code",
   "execution_count": 2,
   "id": "968f5360-b94c-44a3-820e-5855ded53799",
   "metadata": {},
   "outputs": [
    {
     "name": "stdout",
     "output_type": "stream",
     "text": [
      "Extracting EDF parameters from C:\\Users\\Tyler\\Documents\\CSCI 5622 Final Project\\sleep-cassette\\SC4001E0-PSG.edf...\n",
      "EDF file detected\n",
      "Setting channel info structure...\n",
      "Creating raw.info structure...\n"
     ]
    }
   ],
   "source": [
    "#read in and preprocess data\n",
    "data = read_raw_edf('sleep-cassette/SC4001E0-PSG.edf')\n",
    "raw_data = data.get_data()\n",
    "eeg_cz = raw_data[0]\n",
    "eeg_cz = eeg_cz.reshape((eeg_cz.shape[0],1))\n",
    "eeg_oz = raw_data[1]\n",
    "eeg_oz = eeg_oz.reshape((eeg_cz.shape[0],1))\n",
    "eog = raw_data[2]\n",
    "eog = eog.reshape((eeg_cz.shape[0],1))\n",
    "X = np.concatenate((eeg_cz, eeg_oz, eog), axis = 1)\n",
    "scaler = StandardScaler()\n",
    "X = scaler.fit_transform(X)"
   ]
  },
  {
   "cell_type": "code",
   "execution_count": 3,
   "id": "4d2f47e7-5a2f-4390-a64f-48a053bab546",
   "metadata": {},
   "outputs": [],
   "source": [
    "#create sequence data for forward prediction\n",
    "def forward_split_sequences_multivariate(data, seq_len, forecast_len):\n",
    "    n = data.shape[0]\n",
    "    x_data = []\n",
    "    y_data = []\n",
    "    for i in range(n - seq_len - forecast_len):\n",
    "        x_data.append(data[i:i + seq_len])\n",
    "        y_data.append(data[i + seq_len:i + seq_len + forecast_len])\n",
    "    x = np.array(x_data)\n",
    "    y = np.array(y_data)\n",
    "\n",
    "    return x, y\n",
    "\n",
    "#create sequence data for forward and back predicition\n",
    "def bimodal_split_sequences_multivariate(data, seq_len, forecast_len):\n",
    "    n = data.shape[0]\n",
    "    x_data = []\n",
    "    y_data = []\n",
    "    for i in range(n - seq_len - forecast_len - seq_len):\n",
    "        x_data.append(np.concatenate((data[i:i + seq_len], data[i + seq_len + forecast_len:i + seq_len + forecast_len + seq_len]), axis = 1))\n",
    "        y_data.append(data[i + seq_len:i + seq_len + forecast_len])\n",
    "    x = np.array(x_data)\n",
    "    y = np.array(y_data)\n",
    "\n",
    "    return x, y"
   ]
  },
  {
   "cell_type": "code",
   "execution_count": 5,
   "id": "16923d05-a58e-4572-b1b8-28d6e0462f20",
   "metadata": {},
   "outputs": [],
   "source": [
    "#choose sequence length and forecast length\n",
    "seq_len = 20\n",
    "forecast_len = 10 \n",
    "\n",
    "#use bimodal, makes graphing easier\n",
    "x, y = bimodal_split_sequences_multivariate(X, seq_len, forecast_len)\n",
    "x_train = x[:,:,0:3]\n",
    "y_train = y\n",
    "\n",
    "n_features_x = x_train.shape[2]\n",
    "n_features_y = y_train.shape[2]\n"
   ]
  },
  {
   "cell_type": "code",
   "execution_count": 6,
   "id": "cec7a724-45e1-4143-9084-d13795d5093c",
   "metadata": {},
   "outputs": [],
   "source": [
    "#build the model\n",
    "model = Sequential()\n",
    "model.add(layers.LSTM(32, input_shape = (seq_len,n_features_x)))\n",
    "model.add(layers.Dense(forecast_len*n_features_y))\n",
    "model.add(layers.Reshape([forecast_len, n_features_y]))\n",
    "model.compile(optimizer = 'adam', loss = 'mse')\n",
    "\n",
    "#save checkpoints\n",
    "checkpoint_path = \"checkpoints_forward/cp-{epoch:04d}.ckpt\"\n",
    "checkpoint_dir = os.path.dirname(checkpoint_path)\n",
    "cp_callback = keras.callbacks.ModelCheckpoint(filepath = checkpoint_path, save_weights_only = True, verbose = 1)"
   ]
  },
  {
   "cell_type": "code",
   "execution_count": 7,
   "id": "323e0e51-f4b0-4caa-adca-2d9a312ab338",
   "metadata": {},
   "outputs": [
    {
     "name": "stdout",
     "output_type": "stream",
     "text": [
      "Epoch 1/20\n",
      "248436/248436 [==============================] - ETA: 0s - loss: 0.3144\n",
      "Epoch 1: saving model to checkpoints_forward\\cp-0001.ckpt\n",
      "248436/248436 [==============================] - 1248s 5ms/step - loss: 0.3144\n",
      "Epoch 2/20\n",
      "248433/248436 [============================>.] - ETA: 0s - loss: 0.3051\n",
      "Epoch 2: saving model to checkpoints_forward\\cp-0002.ckpt\n",
      "248436/248436 [==============================] - 1240s 5ms/step - loss: 0.3051\n",
      "Epoch 3/20\n",
      "248427/248436 [============================>.] - ETA: 0s - loss: 0.3033\n",
      "Epoch 3: saving model to checkpoints_forward\\cp-0003.ckpt\n",
      "248436/248436 [==============================] - 1288s 5ms/step - loss: 0.3033\n",
      "Epoch 4/20\n",
      "248436/248436 [==============================] - ETA: 0s - loss: 0.3023\n",
      "Epoch 4: saving model to checkpoints_forward\\cp-0004.ckpt\n",
      "248436/248436 [==============================] - 1278s 5ms/step - loss: 0.3023\n",
      "Epoch 5/20\n",
      "248428/248436 [============================>.] - ETA: 0s - loss: 0.3016\n",
      "Epoch 5: saving model to checkpoints_forward\\cp-0005.ckpt\n",
      "248436/248436 [==============================] - 1321s 5ms/step - loss: 0.3017\n",
      "Epoch 6/20\n",
      "248429/248436 [============================>.] - ETA: 0s - loss: 0.3012\n",
      "Epoch 6: saving model to checkpoints_forward\\cp-0006.ckpt\n",
      "248436/248436 [==============================] - 1331s 5ms/step - loss: 0.3012\n",
      "Epoch 7/20\n",
      "248434/248436 [============================>.] - ETA: 0s - loss: 0.3009\n",
      "Epoch 7: saving model to checkpoints_forward\\cp-0007.ckpt\n",
      "248436/248436 [==============================] - 1346s 5ms/step - loss: 0.3009\n",
      "Epoch 8/20\n",
      "248429/248436 [============================>.] - ETA: 0s - loss: 0.3007\n",
      "Epoch 8: saving model to checkpoints_forward\\cp-0008.ckpt\n",
      "248436/248436 [==============================] - 1369s 6ms/step - loss: 0.3007\n",
      "Epoch 9/20\n",
      "248434/248436 [============================>.] - ETA: 0s - loss: 0.3005\n",
      "Epoch 9: saving model to checkpoints_forward\\cp-0009.ckpt\n",
      "248436/248436 [==============================] - 1496s 6ms/step - loss: 0.3005\n",
      "Epoch 10/20\n",
      "248434/248436 [============================>.] - ETA: 0s - loss: 0.3003\n",
      "Epoch 10: saving model to checkpoints_forward\\cp-0010.ckpt\n",
      "248436/248436 [==============================] - 1519s 6ms/step - loss: 0.3003\n",
      "Epoch 11/20\n",
      "248433/248436 [============================>.] - ETA: 0s - loss: 0.3001\n",
      "Epoch 11: saving model to checkpoints_forward\\cp-0011.ckpt\n",
      "248436/248436 [==============================] - 1527s 6ms/step - loss: 0.3001\n",
      "Epoch 12/20\n",
      "248432/248436 [============================>.] - ETA: 0s - loss: 0.3000\n",
      "Epoch 12: saving model to checkpoints_forward\\cp-0012.ckpt\n",
      "248436/248436 [==============================] - 1550s 6ms/step - loss: 0.3000\n",
      "Epoch 13/20\n",
      "248430/248436 [============================>.] - ETA: 0s - loss: 0.2998\n",
      "Epoch 13: saving model to checkpoints_forward\\cp-0013.ckpt\n",
      "248436/248436 [==============================] - 1564s 6ms/step - loss: 0.2998\n",
      "Epoch 14/20\n",
      "248431/248436 [============================>.] - ETA: 0s - loss: 0.2996\n",
      "Epoch 14: saving model to checkpoints_forward\\cp-0014.ckpt\n",
      "248436/248436 [==============================] - 1567s 6ms/step - loss: 0.2996\n",
      "Epoch 15/20\n",
      "248436/248436 [==============================] - ETA: 0s - loss: 0.3003\n",
      "Epoch 15: saving model to checkpoints_forward\\cp-0015.ckpt\n",
      "248436/248436 [==============================] - 1572s 6ms/step - loss: 0.3003\n",
      "Epoch 16/20\n",
      "248432/248436 [============================>.] - ETA: 0s - loss: 0.2996\n",
      "Epoch 16: saving model to checkpoints_forward\\cp-0016.ckpt\n",
      "248436/248436 [==============================] - 1591s 6ms/step - loss: 0.2996\n",
      "Epoch 17/20\n",
      "248436/248436 [==============================] - ETA: 0s - loss: 0.2994\n",
      "Epoch 17: saving model to checkpoints_forward\\cp-0017.ckpt\n",
      "248436/248436 [==============================] - 1621s 7ms/step - loss: 0.2994\n",
      "Epoch 18/20\n",
      "248430/248436 [============================>.] - ETA: 0s - loss: 0.2994\n",
      "Epoch 18: saving model to checkpoints_forward\\cp-0018.ckpt\n",
      "248436/248436 [==============================] - 1642s 7ms/step - loss: 0.2994\n",
      "Epoch 19/20\n",
      "248435/248436 [============================>.] - ETA: 0s - loss: 0.2993\n",
      "Epoch 19: saving model to checkpoints_forward\\cp-0019.ckpt\n",
      "248436/248436 [==============================] - 1687s 7ms/step - loss: 0.2993\n",
      "Epoch 20/20\n",
      "248434/248436 [============================>.] - ETA: 0s - loss: 0.2992\n",
      "Epoch 20: saving model to checkpoints_forward\\cp-0020.ckpt\n",
      "248436/248436 [==============================] - 1740s 7ms/step - loss: 0.2992\n"
     ]
    }
   ],
   "source": [
    "#fit model\n",
    "history = model.fit(x_train, y_train, epochs = 20, batch_size = 32, callbacks = [cp_callback])"
   ]
  },
  {
   "cell_type": "code",
   "execution_count": 8,
   "id": "a4ec7558-99ed-49a7-810b-142bd5661158",
   "metadata": {},
   "outputs": [
    {
     "data": {
      "text/plain": [
       "<tensorflow.python.checkpoint.checkpoint.CheckpointLoadStatus at 0x261a3e2a340>"
      ]
     },
     "execution_count": 8,
     "metadata": {},
     "output_type": "execute_result"
    }
   ],
   "source": [
    "#load best checkpoint\n",
    "model.load_weights(\"checkpoints_forward/cp-0020.ckpt\")"
   ]
  },
  {
   "cell_type": "code",
   "execution_count": 9,
   "id": "233483ff-138f-4249-8eae-eb7ba5fb5454",
   "metadata": {},
   "outputs": [
    {
     "name": "stdout",
     "output_type": "stream",
     "text": [
      "Extracting EDF parameters from C:\\Users\\Tyler\\Documents\\CSCI 5622 Final Project\\sleep-cassette\\SC4002E0-PSG.edf...\n",
      "EDF file detected\n",
      "Setting channel info structure...\n",
      "Creating raw.info structure...\n"
     ]
    }
   ],
   "source": [
    "#read in and preprocess test data\n",
    "test_data = read_raw_edf('sleep-cassette/SC4002E0-PSG.edf')\n",
    "raw_test_data = test_data.get_data()\n",
    "eeg_cz_test = raw_test_data[0]\n",
    "eeg_cz_test = eeg_cz_test.reshape((eeg_cz_test.shape[0],1))\n",
    "eeg_oz_test = raw_test_data[1]\n",
    "eeg_oz_test = eeg_oz_test.reshape((eeg_cz_test.shape[0],1))\n",
    "eog_test = raw_test_data[2]\n",
    "eog_test = eog_test.reshape((eeg_cz_test.shape[0],1))\n",
    "X_test = np.concatenate((eeg_cz_test, eeg_oz_test, eog_test), axis = 1)\n",
    "X_test = scaler.transform(X_test)"
   ]
  },
  {
   "cell_type": "code",
   "execution_count": 11,
   "id": "308ad9d5-ef6b-452d-a6c3-6d2b1ae01ce5",
   "metadata": {},
   "outputs": [
    {
     "name": "stdout",
     "output_type": "stream",
     "text": [
      "(8489950, 20, 3) (8489950, 10, 3)\n"
     ]
    }
   ],
   "source": [
    "#process test data\n",
    "seq_len = 20\n",
    "forecast_len = 10 \n",
    "\n",
    "#use bimodal, makes graphing easier\n",
    "x_test_full, y_test = bimodal_split_sequences_multivariate(X_test, seq_len, forecast_len)\n",
    "x_test = x_test_full[:,:,0:3]\n"
   ]
  },
  {
   "cell_type": "code",
   "execution_count": 12,
   "id": "4625489e-008d-49f2-951b-94650714968d",
   "metadata": {},
   "outputs": [
    {
     "name": "stdout",
     "output_type": "stream",
     "text": [
      "265311/265311 [==============================] - 1115s 4ms/step - loss: 0.4187\n"
     ]
    }
   ],
   "source": [
    "test_mse = model.evaluate(x_test, y_test)"
   ]
  },
  {
   "cell_type": "code",
   "execution_count": 22,
   "id": "10146859-3e46-4d82-9e29-58e39b6062c1",
   "metadata": {},
   "outputs": [
    {
     "name": "stdout",
     "output_type": "stream",
     "text": [
      "1/1 [==============================] - 0s 39ms/step\n",
      "(2, 10, 3)\n"
     ]
    }
   ],
   "source": [
    "#make sure same seed as other notebook\n",
    "rng = np.random.default_rng(500)\n",
    "\n",
    "#prepare predictions for graph in other notebook\n",
    "random_sample = rng.integers(low = 0, high = x_test.shape[0], size = 2)\n",
    "x_test_full_sample = x_test_full[random_sample]\n",
    "x_test_sample = x_test_full_sample[:,:,0:3]\n",
    "\n",
    "y_predict_sample = model.predict(x_test_sample)\n",
    "print(y_predict_sample.shape)\n",
    "y_predict_sample = y_predict_sample.reshape((20,3))\n",
    "np.savetxt('forward_predict.txt', y_predict_sample)\n"
   ]
  },
  {
   "cell_type": "code",
   "execution_count": null,
   "id": "83a423fb-b740-4dc3-907a-fb19bea3e210",
   "metadata": {},
   "outputs": [],
   "source": []
  }
 ],
 "metadata": {
  "kernelspec": {
   "display_name": "myenv",
   "language": "python",
   "name": "myenv"
  },
  "language_info": {
   "codemirror_mode": {
    "name": "ipython",
    "version": 3
   },
   "file_extension": ".py",
   "mimetype": "text/x-python",
   "name": "python",
   "nbconvert_exporter": "python",
   "pygments_lexer": "ipython3",
   "version": "3.9.15"
  }
 },
 "nbformat": 4,
 "nbformat_minor": 5
}
